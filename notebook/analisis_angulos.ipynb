{
 "cells": [
  {
   "cell_type": "markdown",
   "id": "e324e6aa-b145-4bc4-8dd3-b6a92dcf708b",
   "metadata": {},
   "source": [
    "### Se importan las librerías necesarias"
   ]
  },
  {
   "cell_type": "code",
   "execution_count": 1,
   "id": "8e13bc76-4140-435e-a532-5eff29ed71c1",
   "metadata": {},
   "outputs": [],
   "source": [
    "import numpy as np"
   ]
  },
  {
   "cell_type": "markdown",
   "id": "8914e9fb-0376-4877-b9e4-b8074733c1d9",
   "metadata": {},
   "source": [
    "### Se definen funciones importantes"
   ]
  },
  {
   "cell_type": "code",
   "execution_count": 2,
   "id": "aaab8bb1-b1b9-48ea-bf6d-6f38379c28f4",
   "metadata": {},
   "outputs": [],
   "source": [
    "# Esta función regresa el índice de refracción y su error. \n",
    "\n",
    "\n",
    "def pfund(diccionario):\n",
    "    indice_refraccion = round(np.sqrt((2 * diccionario[\"r\"][\"valor\"]) ** 2 + 16 * diccionario[\"h\"][\"valor\"] ** 2) / (2 * diccionario[\"r\"][\"valor\"]), 3)\n",
    "    err = round(np.sqrt((1 / 2 * 32 * diccionario[\"h\"][\"valor\"] / (np.sqrt((2 * diccionario[\"r\"][\"valor\"]) ** 2 + 16 * diccionario[\"h\"][\"valor\"] ** 2)) * 1 / (2 * diccionario[\"r\"][\"valor\"])) ** 2 * diccionario[\"h\"][\"error\"] ** 2 + (16 * diccionario[\"h\"][\"valor\"] / (4 * diccionario[\"r\"][\"valor\"] * np.sqrt((2 * diccionario[\"r\"][\"valor\"]) ** 2 + 16 * diccionario[\"h\"][\"valor\"] ** 2))) ** 2 * diccionario[\"r\"][\"error\"] ** 2), 3)\n",
    "    return indice_refraccion, err"
   ]
  },
  {
   "cell_type": "code",
   "execution_count": 3,
   "id": "36d33fcd-2fb3-4df8-9783-c0180ed8af58",
   "metadata": {},
   "outputs": [],
   "source": [
    "# Esta función regreda el ángulo crítico y su error\n",
    "\n",
    "\n",
    "def angulo_critico(datos_indice_refraccion):\n",
    "    ang_crit = round(np.arcsin(1 / datos_indice_refraccion[0]) * 180 / np.pi, 3)\n",
    "    err = round(datos_indice_refraccion[0] / np.sqrt(datos_indice_refraccion[0] ** 2 - 1) * datos_indice_refraccion[1], 3)\n",
    "    return ang_crit, err"
   ]
  },
  {
   "cell_type": "code",
   "execution_count": 6,
   "id": "76b4b6d2-15f4-4d98-bdfb-bfaf9fbeec1a",
   "metadata": {},
   "outputs": [],
   "source": [
    "# Esta función devuelve la apertura numérica y su error\n",
    "\n",
    "\n",
    "def apertura_numerica(datos_indice_refraccion):\n",
    "    ap_num = round(np.sqrt(datos_indice_refraccion[0] ** 2 - 1), 3)\n",
    "    err = round(datos_indice_refraccion[0] / (np.sqrt(datos_indice_refraccion[0] ** 2 - 1)) * datos_indice_refraccion[1], 3)\n",
    "    return ap_num, err"
   ]
  },
  {
   "cell_type": "code",
   "execution_count": 10,
   "id": "f38b74b9-2b35-4827-9773-47f13e9ddf71",
   "metadata": {},
   "outputs": [],
   "source": [
    "# Esta función regresa el ángulo de aceptación y su error\n",
    "\n",
    "\n",
    "def angulo_aceptacion(datos_indice_refraccion):\n",
    "    ang_acep = round(np.arcsin(np.sqrt(datos_indice_refraccion[0] ** 2 - 1)) * 180 / np.pi, 3)\n",
    "    err = round(datos_indice_refraccion[0] / np.sqrt(-datos_indice_refraccion[0] + 3 * datos_indice_refraccion[0] - 2) * datos_indice_refraccion[1], 3)\n",
    "    return ang_acep, err"
   ]
  },
  {
   "cell_type": "markdown",
   "id": "db7d5833-85f7-474a-bfde-b008b8d2bb5f",
   "metadata": {},
   "source": [
    "### Se crea diccionario con los resultados de las mediciones"
   ]
  },
  {
   "cell_type": "code",
   "execution_count": 6,
   "id": "5f143243-bc1d-4b29-bdc4-b4558efe014f",
   "metadata": {},
   "outputs": [],
   "source": [
    "# Datos obtenidos del análisis previo de las imágenes con ayuda del\n",
    "# software Tracker\n",
    "\n",
    "mediciones = {\n",
    "    \"concentracion_11\" : {\n",
    "      \"angulo_critico\" : {\n",
    "          \"valor\" : 137.6 / 2,\n",
    "          \"error\" : 0.05\n",
    "      },\n",
    "        \"h\" : {\n",
    "          \"valor\" : 2.443,\n",
    "            \"error\" : 0.05\n",
    "        },\n",
    "        \"r\" : {\n",
    "            \"valor\" : 12.92,\n",
    "            \"error\" : 0.05\n",
    "        }\n",
    "    },\n",
    "    \"concentracion_31\" : {\n",
    "        \"angulo_critico\" : {\n",
    "          \"valor\" : 117.1 / 2,\n",
    "          \"error\" : 0.05\n",
    "      },\n",
    "        \"h\" : {\n",
    "          \"valor\" : 1.765,\n",
    "            \"error\" : 0.05\n",
    "        },\n",
    "        \"r\" : {\n",
    "            \"valor\" : 5.835,\n",
    "            \"error\" : 0.05\n",
    "        }\n",
    "    },\n",
    "    \"concentracion_61\" : {\n",
    "        \"angulo_critico\" : {\n",
    "          \"valor\" : 125.1 / 2,\n",
    "          \"error\" : 0.05\n",
    "      },\n",
    "        \"h\" : {\n",
    "          \"valor\" : 1.590,\n",
    "            \"error\" : 0.05\n",
    "        },\n",
    "        \"r\" : {\n",
    "            \"valor\" : 6.072,\n",
    "            \"error\" : 0.05\n",
    "        }\n",
    "    },\n",
    "}"
   ]
  },
  {
   "cell_type": "markdown",
   "id": "f7c735c2-92f7-4fbb-84b8-6eee907897a7",
   "metadata": {},
   "source": [
    "## ÍNDICE DE REFRACCIÓN\n",
    "\n",
    "$$n=\\frac{\\sqrt{D^2+16h^2}}{D}$$"
   ]
  },
  {
   "cell_type": "markdown",
   "id": "0ef27637-5ff1-4f1e-926a-4fda6017303c",
   "metadata": {},
   "source": [
    "##### Medio con concentración grenetina/agua 1:1"
   ]
  },
  {
   "cell_type": "code",
   "execution_count": 7,
   "id": "e94858c3-2b4c-4c3b-bb42-339dada51684",
   "metadata": {},
   "outputs": [
    {
     "name": "stdout",
     "output_type": "stream",
     "text": [
      "El indice de refracción es -> 1.069 +/- 0.003\n",
      "\t\t\t\tError Porcentual -> 0.281%\n"
     ]
    }
   ],
   "source": [
    "indice_refraccion_11 , err_indice_refraccion_11 = pfund(mediciones[\"concentracion_11\"])\n",
    "print(f\"El indice de refracción es -> {indice_refraccion_11} +/- {err_indice_refraccion_11}\")\n",
    "print(f'\\t\\t\\t\\tError Porcentual -> {round(err_indice_refraccion_11 / indice_refraccion_11 * 100, 3)}%')"
   ]
  },
  {
   "cell_type": "markdown",
   "id": "eddd85e7-2888-4c49-a21f-ede7c4e3d9a9",
   "metadata": {},
   "source": [
    "##### Medio con concentración grenetina/agua 3:1"
   ]
  },
  {
   "cell_type": "code",
   "execution_count": 8,
   "id": "3bc33633-e729-4f67-88e7-95c0780ee876",
   "metadata": {},
   "outputs": [
    {
     "name": "stdout",
     "output_type": "stream",
     "text": [
      "El indice de refracción es -> 1.169 +/- 0.01\n",
      "\t\t\t\tError Porcentual -> 0.855%\n"
     ]
    }
   ],
   "source": [
    "indice_refraccion_31 , err_indice_refraccion_31 = pfund(mediciones[\"concentracion_31\"])\n",
    "print(f\"El indice de refracción es -> {indice_refraccion_31} +/- {err_indice_refraccion_31}\")\n",
    "print(f'\\t\\t\\t\\tError Porcentual -> {round(err_indice_refraccion_31 / indice_refraccion_31 * 100, 3)}%')"
   ]
  },
  {
   "cell_type": "markdown",
   "id": "1beeb6ed-a01a-411f-849b-2c25a733f734",
   "metadata": {},
   "source": [
    "##### Medio con concentración grenetina/agua 6:1"
   ]
  },
  {
   "cell_type": "code",
   "execution_count": 9,
   "id": "579829e5-15e1-4ac9-996d-415349dd071f",
   "metadata": {},
   "outputs": [
    {
     "name": "stdout",
     "output_type": "stream",
     "text": [
      "El indice de refracción es -> 1.129 +/- 0.009\n",
      "\t\t\t\tError Porcentual -> 0.797%\n"
     ]
    }
   ],
   "source": [
    "indice_refraccion_61 , err_indice_refraccion_61 = pfund(mediciones[\"concentracion_61\"])\n",
    "print(f\"El indice de refracción es -> {indice_refraccion_61} +/- {err_indice_refraccion_61}\")\n",
    "print(f'\\t\\t\\t\\tError Porcentual -> {round(err_indice_refraccion_61 / indice_refraccion_61 * 100, 3)}%')"
   ]
  },
  {
   "cell_type": "markdown",
   "id": "aa16e769-7764-447e-b0b3-1c6cfa42bc8e",
   "metadata": {},
   "source": [
    "## ÁNGULO CRÍTICO\n",
    "\n",
    "$$\\theta_c=\\arcsin\\left(\\frac{n_1}{n_2}\\right)$$\n",
    "\n",
    "En este caso $n_1\\approx1$ es el indice de refracción del aire"
   ]
  },
  {
   "cell_type": "markdown",
   "id": "c9972ad5-4eba-42da-afd0-2d719c7be30d",
   "metadata": {},
   "source": [
    "##### Medio con concentración grenetina/agua 1:1"
   ]
  },
  {
   "cell_type": "code",
   "execution_count": 16,
   "id": "d43a09fc-fb69-46f0-955d-95bd7bb7a248",
   "metadata": {},
   "outputs": [
    {
     "name": "stdout",
     "output_type": "stream",
     "text": [
      "El angulo crítico es -> 69.302 +/- 0.008\n",
      "\t\t\t\tError Porcentual -> 0.012%\n"
     ]
    }
   ],
   "source": [
    "angulo_critico_11, err_angulo_critico_11 = angulo_critico([1.069, 0.003])\n",
    "print(f\"El angulo crítico es -> {angulo_critico_11} +/- {err_angulo_critico_11}\")\n",
    "print(f'\\t\\t\\t\\tError Porcentual -> {round(err_angulo_critico_11 / angulo_critico_11 * 100, 3)}%')"
   ]
  },
  {
   "cell_type": "markdown",
   "id": "0d8d5300-d792-447d-9490-881d6e9d73bb",
   "metadata": {},
   "source": [
    "##### Medio con concentración grenetina/agua 3:1"
   ]
  },
  {
   "cell_type": "code",
   "execution_count": 17,
   "id": "505bb314-6358-4e28-8ebb-02da91faf0fa",
   "metadata": {},
   "outputs": [
    {
     "name": "stdout",
     "output_type": "stream",
     "text": [
      "El angulo crítico es -> 55.391 +/- 0.405\n",
      "\t\t\t\tError Porcentual -> 0.731%\n"
     ]
    }
   ],
   "source": [
    "angulo_critico_31, err_angulo_critico_31 = angulo_critico([1.215, 0.23])\n",
    "print(f\"El angulo crítico es -> {angulo_critico_31} +/- {err_angulo_critico_31}\")\n",
    "print(f'\\t\\t\\t\\tError Porcentual -> {round(err_angulo_critico_31 / angulo_critico_31 * 100, 3)}%')"
   ]
  },
  {
   "cell_type": "markdown",
   "id": "4e45c215-89da-454b-badc-d6b5ccc57eac",
   "metadata": {},
   "source": [
    "##### Medio con concentración grenetina/agua 6:1"
   ]
  },
  {
   "cell_type": "code",
   "execution_count": 18,
   "id": "b617af03-47c6-47a6-8298-2eb08dcb2be3",
   "metadata": {},
   "outputs": [
    {
     "name": "stdout",
     "output_type": "stream",
     "text": [
      "El angulo crítico es -> 48.558 +/- 0.183\n",
      "\t\t\t\tError Porcentual -> 0.377%\n"
     ]
    }
   ],
   "source": [
    "angulo_critico_61, err_angulo_critico_61 = angulo_critico([1.334, 0.121])\n",
    "print(f\"El angulo crítico es -> {angulo_critico_61} +/- {err_angulo_critico_61}\")\n",
    "print(f'\\t\\t\\t\\tError Porcentual -> {round(err_angulo_critico_61 / angulo_critico_61 * 100, 3)}%')"
   ]
  },
  {
   "cell_type": "markdown",
   "id": "11779acd-5f75-4455-ac46-23835b4a1ca5",
   "metadata": {},
   "source": [
    "Silicón"
   ]
  },
  {
   "cell_type": "code",
   "execution_count": 19,
   "id": "ef83ebd6-cbd0-4dc5-a8b2-702f4f9dbef9",
   "metadata": {},
   "outputs": [
    {
     "name": "stdout",
     "output_type": "stream",
     "text": [
      "El angulo crítico es -> 36.81 +/- 0.205\n",
      "\t\t\t\tError Porcentual -> 0.557%\n"
     ]
    }
   ],
   "source": [
    "angulo_critico_silicon, err_angulo_critico_silicon = angulo_critico([1.669, 0.164])\n",
    "print(f\"El angulo crítico es -> {angulo_critico_silicon} +/- {err_angulo_critico_silicon}\")\n",
    "print(f'\\t\\t\\t\\tError Porcentual -> {round(err_angulo_critico_silicon / angulo_critico_silicon * 100, 3)}%')"
   ]
  },
  {
   "cell_type": "markdown",
   "id": "e724f2eb-3b16-4f1f-9291-5e3e9de8f4bb",
   "metadata": {},
   "source": [
    "## APERTURA NUMÉRICA\n",
    "\n",
    "$$NA=\\sqrt{n_2^2-n_1^2}$$"
   ]
  },
  {
   "cell_type": "markdown",
   "id": "e2b8fc26-e5c5-4a51-a2f9-8ec62a2fc08e",
   "metadata": {},
   "source": [
    "##### Medio con concentración grenetina/agua 1:1"
   ]
  },
  {
   "cell_type": "code",
   "execution_count": 13,
   "id": "ee5d97b3-ebb7-4512-ad4d-7219d71b7e5c",
   "metadata": {},
   "outputs": [
    {
     "name": "stdout",
     "output_type": "stream",
     "text": [
      "La Apertura Numérica  es -> 0.378 +/- 0.008\n",
      "\t\t\t\tError Porcentual -> 2.116%\n"
     ]
    }
   ],
   "source": [
    "apertura_numerica_11, err_apertura_numerica_11 = apertura_numerica([1.069, 0.003])\n",
    "print(f\"La Apertura Numérica  es -> {apertura_numerica_11} +/- {err_apertura_numerica_11}\")\n",
    "print(f'\\t\\t\\t\\tError Porcentual -> {round(err_apertura_numerica_11 / apertura_numerica_11 * 100, 3)}%')"
   ]
  },
  {
   "cell_type": "markdown",
   "id": "b6929b15-28ca-4c08-a11a-8857058d83c9",
   "metadata": {},
   "source": [
    "##### Medio con concentración grenetina/agua 3:1"
   ]
  },
  {
   "cell_type": "code",
   "execution_count": 9,
   "id": "c84a44cb-0cf7-4230-8c75-aa50d5cfd282",
   "metadata": {},
   "outputs": [
    {
     "name": "stdout",
     "output_type": "stream",
     "text": [
      "La Apertura Numérica  es -> 0.69 +/- 0.405\n",
      "\t\t\t\tError Porcentual -> 58.696%\n"
     ]
    }
   ],
   "source": [
    "apertura_numerica_31, err_apertura_numerica_31 = apertura_numerica([1.215, 0.23])\n",
    "print(f\"La Apertura Numérica  es -> {apertura_numerica_31} +/- {err_apertura_numerica_31}\")\n",
    "print(f'\\t\\t\\t\\tError Porcentual -> {round(err_apertura_numerica_31 / apertura_numerica_31 * 100, 3)}%')"
   ]
  },
  {
   "cell_type": "markdown",
   "id": "d3412e15-5fa3-4ee6-b0d5-111d7981217f",
   "metadata": {},
   "source": [
    "##### Medio con concentración grenetina/agua 6:1"
   ]
  },
  {
   "cell_type": "code",
   "execution_count": 15,
   "id": "4bb9ddd1-2b0a-4a81-94b7-66fab1ef1391",
   "metadata": {},
   "outputs": [
    {
     "name": "stdout",
     "output_type": "stream",
     "text": [
      "La Apertura Numérica  es -> 0.524 +/- 0.019\n",
      "\t\t\t\tError Porcentual -> 3.626%\n"
     ]
    }
   ],
   "source": [
    "apertura_numerica_61, err_apertura_numerica_61 = apertura_numerica([1.129, 0.009])\n",
    "print(f\"La Apertura Numérica  es -> {apertura_numerica_61} +/- {err_apertura_numerica_61}\")\n",
    "print(f'\\t\\t\\t\\tError Porcentual -> {round(err_apertura_numerica_61 / apertura_numerica_61 * 100, 3)}%')"
   ]
  },
  {
   "cell_type": "markdown",
   "id": "568a8b6b-11df-481c-97a9-8a6f41a5d361",
   "metadata": {},
   "source": [
    "## ÁNGULO DE ACEPTACIÓN\n",
    "\n",
    "$$\\theta_A=\\arcsin{\\left(\\frac{1}{n_0}\\sqrt{n_2^2-n_1^2}\\right)}$$\n",
    "\n",
    "donde $n_0=n_2\\approx1$ son el índice de refracción del aire.\n",
    "\n",
    "##### Medio con concentración grenetina/agua 1:1"
   ]
  },
  {
   "cell_type": "markdown",
   "id": "cc760d53-cde8-4598-b892-a29e7bc49020",
   "metadata": {},
   "source": [
    "##### Medio con concentración grenetina/agua 1:1"
   ]
  },
  {
   "cell_type": "code",
   "execution_count": 12,
   "id": "55497e53-1e1a-407c-9f4f-d58685222011",
   "metadata": {},
   "outputs": [
    {
     "name": "stdout",
     "output_type": "stream",
     "text": [
      "La Apertura Numérica  es -> 22.2 +/- 0.009\n",
      "\t\t\t\tError Porcentual -> 0.041%\n"
     ]
    }
   ],
   "source": [
    "angulo_aceptacion_11, err_angulo_aceptacion_11 = angulo_aceptacion([1.069, 0.003])\n",
    "print(f\"La Apertura Numérica  es -> {angulo_aceptacion_11} +/- {err_angulo_aceptacion_11}\")\n",
    "print(f'\\t\\t\\t\\tError Porcentual -> {round(err_angulo_aceptacion_11 / angulo_aceptacion_11 * 100, 3)}%')"
   ]
  },
  {
   "cell_type": "markdown",
   "id": "01d46db8-77c6-49c4-8e73-a17ed8f3b43f",
   "metadata": {},
   "source": [
    "##### Medio con concentración grenetina/agua 3:1"
   ]
  },
  {
   "cell_type": "code",
   "execution_count": 13,
   "id": "58ac0c34-2556-4551-b3ae-5c5de90b4765",
   "metadata": {},
   "outputs": [
    {
     "name": "stdout",
     "output_type": "stream",
     "text": [
      "La Apertura Numérica  es -> 37.261 +/- 0.02\n",
      "\t\t\t\tError Porcentual -> 0.054%\n"
     ]
    }
   ],
   "source": [
    "angulo_aceptacion_31, err_angulo_aceptacion_31 = angulo_aceptacion([1.169, 0.01])\n",
    "print(f\"La Apertura Numérica  es -> {angulo_aceptacion_31} +/- {err_angulo_aceptacion_31}\")\n",
    "print(f'\\t\\t\\t\\tError Porcentual -> {round(err_angulo_aceptacion_31 / angulo_aceptacion_31 * 100, 3)}%')"
   ]
  },
  {
   "cell_type": "markdown",
   "id": "e81a0380-d0ab-46da-9424-97f60c45c9f6",
   "metadata": {},
   "source": [
    "##### Medio con concentración grenetina/agua 6:1"
   ]
  },
  {
   "cell_type": "code",
   "execution_count": 14,
   "id": "c62b5a9d-84c7-4c2f-8b0d-668625f74b43",
   "metadata": {},
   "outputs": [
    {
     "name": "stdout",
     "output_type": "stream",
     "text": [
      "La Apertura Numérica  es -> 31.605 +/- 0.02\n",
      "\t\t\t\tError Porcentual -> 0.063%\n"
     ]
    }
   ],
   "source": [
    "angulo_aceptacion_61, err_angulo_aceptacion_61 = angulo_aceptacion([1.129, 0.009])\n",
    "print(f\"La Apertura Numérica  es -> {angulo_aceptacion_61} +/- {err_angulo_aceptacion_61}\")\n",
    "print(f'\\t\\t\\t\\tError Porcentual -> {round(err_angulo_aceptacion_61 / angulo_aceptacion_61 * 100, 3)}%')"
   ]
  },
  {
   "cell_type": "code",
   "execution_count": 15,
   "id": "02d2a43f-701b-4990-af93-7fbf8b0fd7a9",
   "metadata": {},
   "outputs": [
    {
     "name": "stdout",
     "output_type": "stream",
     "text": [
      "La Apertura Numérica  es -> nan +/- 0.231\n",
      "\t\t\t\tError Porcentual -> nan%\n"
     ]
    },
    {
     "name": "stderr",
     "output_type": "stream",
     "text": [
      "<ipython-input-10-c16969f3f7bf>:5: RuntimeWarning: invalid value encountered in arcsin\n",
      "  ang_acep = round(np.arcsin(np.sqrt(datos_indice_refraccion[0] ** 2 - 1)) * 180 / np.pi, 3)\n"
     ]
    }
   ],
   "source": [
    "angulo_aceptacion_silicon, err_angulo_aceptacion_silicon = angulo_aceptacion([1.669, 0.16])\n",
    "print(f\"La Apertura Numérica  es -> {angulo_aceptacion_silicon} +/- {err_angulo_aceptacion_silicon}\")\n",
    "print(f'\\t\\t\\t\\tError Porcentual -> {round(err_angulo_aceptacion_silicon / angulo_aceptacion_silicon * 100, 3)}%')"
   ]
  },
  {
   "cell_type": "code",
   "execution_count": null,
   "id": "61cb5f9c-fe3b-4e48-8957-0f48493fe7cf",
   "metadata": {},
   "outputs": [],
   "source": []
  }
 ],
 "metadata": {
  "kernelspec": {
   "display_name": "Python 3",
   "language": "python",
   "name": "python3"
  },
  "language_info": {
   "codemirror_mode": {
    "name": "ipython",
    "version": 3
   },
   "file_extension": ".py",
   "mimetype": "text/x-python",
   "name": "python",
   "nbconvert_exporter": "python",
   "pygments_lexer": "ipython3",
   "version": "3.8.8"
  }
 },
 "nbformat": 4,
 "nbformat_minor": 5
}
