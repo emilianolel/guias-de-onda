{
 "cells": [
  {
   "cell_type": "markdown",
   "id": "81863f78-7530-4d3c-9b98-ad12bb574106",
   "metadata": {},
   "source": [
    "### Se importan las librerías necesarias"
   ]
  },
  {
   "cell_type": "code",
   "execution_count": 1,
   "id": "8d562d6f-db74-451e-8738-f6366186851a",
   "metadata": {},
   "outputs": [],
   "source": [
    "import pandas as pd\n",
    "import numpy as np"
   ]
  },
  {
   "cell_type": "markdown",
   "id": "586023e0-8b06-40b4-9eb8-84982ad6b31f",
   "metadata": {},
   "source": [
    "### Se definen funciones importantes"
   ]
  },
  {
   "cell_type": "code",
   "execution_count": 2,
   "id": "1f758fb4-3b37-4329-aa6e-13ab95562e3f",
   "metadata": {},
   "outputs": [],
   "source": [
    "# Esta función obtiene el índice de refracción del medio y el error asociado\n",
    "\n",
    "\n",
    "def indice_de_refaccion(dataframe):\n",
    "    dataframe[\"seno_incidente\"] = round(np.sin(dataframe[\"incidente\"] * np.pi / 180), 3)\n",
    "    dataframe[\"seno_refractado\"] = round(np.sin(dataframe[\"refractado\"] * np.pi / 180), 3)\n",
    "    dataframe[\"indice_de_refraccion\"] = round(dataframe[\"seno_incidente\"] / dataframe[\"seno_refractado\"], 3)\n",
    "    indice = round(dataframe[\"indice_de_refraccion\"].mean(), 3)\n",
    "    desv_est = round(dataframe[\"indice_de_refraccion\"].std(), 3)\n",
    "    print(f\"El indice de refracción es -> {indice} +/- {desv_est}\")\n",
    "    print(f'\\tEl error porcentual es -> {round(desv_est / indice * 100, 3)}%')"
   ]
  },
  {
   "cell_type": "markdown",
   "id": "beaf2931-5807-4c49-9cff-9fb6986ac64b",
   "metadata": {},
   "source": [
    "### Se cargan los datos resultantes de las mediciones en Tracker"
   ]
  },
  {
   "cell_type": "code",
   "execution_count": 6,
   "id": "5039ff40-e639-4a50-8ab5-ca81e7392035",
   "metadata": {},
   "outputs": [],
   "source": [
    "angulos_31 = pd.read_csv(\"../data/angulos_31.csv\")\n",
    "angulos_61 = pd.read_csv(\"../data/angulos_61.csv\")\n",
    "angulos_barra_gruesa = pd.read_csv(\"../data/angulos_barra_gruesa.csv\")"
   ]
  },
  {
   "cell_type": "markdown",
   "id": "48bb7c7f-528a-4786-914f-c5c1dcac9db2",
   "metadata": {},
   "source": [
    "### Se obtienen los índices de refracción para los diferentes medios\n",
    "\n",
    "$$n=n_i\\frac{\\sin{\\theta_i}}{\\sin{\\theta_t}}$$\n",
    "\n",
    "donde $n_i\\approx1$ es el indice de refracción del aire"
   ]
  },
  {
   "cell_type": "markdown",
   "id": "4df64ca5-dd25-4ef0-bcaa-7a40ca8aaa76",
   "metadata": {},
   "source": [
    "##### Medio con concentración grenetina/agua 3:1"
   ]
  },
  {
   "cell_type": "code",
   "execution_count": 4,
   "id": "55ee2987-c93e-4e56-90c1-5c46513b4100",
   "metadata": {},
   "outputs": [
    {
     "name": "stdout",
     "output_type": "stream",
     "text": [
      "El indice de refracción es -> 1.215 +/- 0.23\n",
      "\tEl error porcentual es -> 18.93%\n"
     ]
    }
   ],
   "source": [
    "indice_de_refaccion(angulos_31)"
   ]
  },
  {
   "cell_type": "markdown",
   "id": "2d341f57-6156-4296-89ce-75f7cf2507ae",
   "metadata": {},
   "source": [
    "##### Medio con concentración grenetina/agua 1:1"
   ]
  },
  {
   "cell_type": "code",
   "execution_count": 5,
   "id": "30ee0e05-0987-4557-b3b2-4e708661c56a",
   "metadata": {},
   "outputs": [
    {
     "name": "stdout",
     "output_type": "stream",
     "text": [
      "El indice de refracción es -> 1.334 +/- 0.121\n",
      "\tEl error porcentual es -> 9.07%\n"
     ]
    }
   ],
   "source": [
    "indice_de_refaccion(angulos_61)"
   ]
  },
  {
   "cell_type": "markdown",
   "id": "0c2be7f7-7403-4b9d-a68a-52f56145f449",
   "metadata": {},
   "source": [
    "##### Barra de silicón gruesa"
   ]
  },
  {
   "cell_type": "code",
   "execution_count": 7,
   "id": "9ba5e510-b731-44ae-be7e-140e5663c6a1",
   "metadata": {},
   "outputs": [
    {
     "name": "stdout",
     "output_type": "stream",
     "text": [
      "El indice de refracción es -> 1.669 +/- 0.164\n",
      "\tEl error porcentual es -> 9.826%\n"
     ]
    }
   ],
   "source": [
    "indice_de_refaccion(angulos_barra_gruesa)"
   ]
  },
  {
   "cell_type": "code",
   "execution_count": null,
   "id": "6198b876-7059-463c-a752-09006b2cf53d",
   "metadata": {},
   "outputs": [],
   "source": []
  }
 ],
 "metadata": {
  "kernelspec": {
   "display_name": "Python 3",
   "language": "python",
   "name": "python3"
  },
  "language_info": {
   "codemirror_mode": {
    "name": "ipython",
    "version": 3
   },
   "file_extension": ".py",
   "mimetype": "text/x-python",
   "name": "python",
   "nbconvert_exporter": "python",
   "pygments_lexer": "ipython3",
   "version": "3.8.8"
  }
 },
 "nbformat": 4,
 "nbformat_minor": 5
}
