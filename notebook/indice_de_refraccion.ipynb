{
 "cells": [
  {
   "cell_type": "markdown",
   "id": "81863f78-7530-4d3c-9b98-ad12bb574106",
   "metadata": {},
   "source": [
    "### Se importan las librerías necesarias"
   ]
  },
  {
   "cell_type": "code",
   "execution_count": 27,
   "id": "8d562d6f-db74-451e-8738-f6366186851a",
   "metadata": {},
   "outputs": [],
   "source": [
    "import pandas as pd\n",
    "import numpy as np\n",
    "import matplotlib.pyplot as plt\n",
    "from scipy.optimize import curve_fit"
   ]
  },
  {
   "cell_type": "markdown",
   "id": "586023e0-8b06-40b4-9eb8-84982ad6b31f",
   "metadata": {},
   "source": [
    "### Se definen funciones importantes"
   ]
  },
  {
   "cell_type": "code",
   "execution_count": 2,
   "id": "1f758fb4-3b37-4329-aa6e-13ab95562e3f",
   "metadata": {},
   "outputs": [],
   "source": [
    "# Esta función obtiene el índice de refracción del medio y el error asociado\n",
    "\n",
    "\n",
    "def indice_de_refaccion(dataframe):\n",
    "    dataframe[\"seno_incidente\"] = round(np.sin(dataframe[\"incidente\"] * np.pi / 180), 3)\n",
    "    dataframe[\"seno_refractado\"] = round(np.sin(dataframe[\"refractado\"] * np.pi / 180), 3)\n",
    "    dataframe[\"indice_de_refraccion\"] = round(dataframe[\"seno_incidente\"] / dataframe[\"seno_refractado\"], 3)\n",
    "    indice = round(dataframe[\"indice_de_refraccion\"].mean(), 3)\n",
    "    desv_est = round(dataframe[\"indice_de_refraccion\"].std(), 3)\n",
    "    print(f\"El indice de refracción es -> {indice} +/- {desv_est}\")\n",
    "    print(f'\\tEl error porcentual es -> {round(desv_est / indice * 100, 3)}%')\n",
    "    return indice, desv_est\n",
    "    "
   ]
  },
  {
   "cell_type": "markdown",
   "id": "beaf2931-5807-4c49-9cff-9fb6986ac64b",
   "metadata": {},
   "source": [
    "### Se cargan los datos resultantes de las mediciones en Tracker"
   ]
  },
  {
   "cell_type": "code",
   "execution_count": 3,
   "id": "5039ff40-e639-4a50-8ab5-ca81e7392035",
   "metadata": {},
   "outputs": [],
   "source": [
    "angulos_31 = pd.read_csv(\"../data/angulos_31.csv\")\n",
    "angulos_61 = pd.read_csv(\"../data/angulos_61.csv\")\n",
    "angulos_barra_gruesa = pd.read_csv(\"../data/angulos_barra_gruesa.csv\")"
   ]
  },
  {
   "cell_type": "markdown",
   "id": "48bb7c7f-528a-4786-914f-c5c1dcac9db2",
   "metadata": {},
   "source": [
    "### Se obtienen los índices de refracción para los diferentes medios\n",
    "\n",
    "$$n=n_i\\frac{\\sin{\\theta_i}}{\\sin{\\theta_t}}$$\n",
    "\n",
    "donde $n_i\\approx1$ es el indice de refracción del aire"
   ]
  },
  {
   "cell_type": "markdown",
   "id": "4df64ca5-dd25-4ef0-bcaa-7a40ca8aaa76",
   "metadata": {},
   "source": [
    "##### Medio con concentración grenetina/agua 3:1"
   ]
  },
  {
   "cell_type": "code",
   "execution_count": 4,
   "id": "55ee2987-c93e-4e56-90c1-5c46513b4100",
   "metadata": {},
   "outputs": [
    {
     "name": "stdout",
     "output_type": "stream",
     "text": [
      "El indice de refracción es -> 1.215 +/- 0.23\n",
      "\tEl error porcentual es -> 18.93%\n"
     ]
    }
   ],
   "source": [
    "indice_31, error_31 = indice_de_refaccion(angulos_31)"
   ]
  },
  {
   "cell_type": "markdown",
   "id": "2d341f57-6156-4296-89ce-75f7cf2507ae",
   "metadata": {},
   "source": [
    "##### Medio con concentración grenetina/agua 6:1"
   ]
  },
  {
   "cell_type": "code",
   "execution_count": 5,
   "id": "30ee0e05-0987-4557-b3b2-4e708661c56a",
   "metadata": {},
   "outputs": [
    {
     "name": "stdout",
     "output_type": "stream",
     "text": [
      "El indice de refracción es -> 1.334 +/- 0.121\n",
      "\tEl error porcentual es -> 9.07%\n"
     ]
    }
   ],
   "source": [
    "indice_61, error_61 = indice_de_refaccion(angulos_61)"
   ]
  },
  {
   "cell_type": "markdown",
   "id": "0c2be7f7-7403-4b9d-a68a-52f56145f449",
   "metadata": {},
   "source": [
    "##### Barra de silicón gruesa"
   ]
  },
  {
   "cell_type": "code",
   "execution_count": 6,
   "id": "9ba5e510-b731-44ae-be7e-140e5663c6a1",
   "metadata": {},
   "outputs": [
    {
     "name": "stdout",
     "output_type": "stream",
     "text": [
      "El indice de refracción es -> 1.669 +/- 0.164\n",
      "\tEl error porcentual es -> 9.826%\n"
     ]
    }
   ],
   "source": [
    "indice_barra, error_barra = indice_de_refaccion(angulos_barra_gruesa)"
   ]
  },
  {
   "cell_type": "code",
   "execution_count": 21,
   "id": "6198b876-7059-463c-a752-09006b2cf53d",
   "metadata": {},
   "outputs": [],
   "source": [
    "indices = [1.069, indice_31, indice_61, indice_barra]\n",
    "errores = [0.003, error_31, error_61, error_barra]\n",
    "angulos_criticos = [69.302, 55.391, 48.558, 36.81]\n",
    "errores_angulos_criticos = [0.008, 0.405, 0.183, 0.0205]"
   ]
  },
  {
   "cell_type": "code",
   "execution_count": 22,
   "id": "058f4dd3-7fca-4e88-9839-0e87a0c2dd5c",
   "metadata": {},
   "outputs": [
    {
     "data": {
      "text/plain": [
       "<ErrorbarContainer object of 3 artists>"
      ]
     },
     "execution_count": 22,
     "metadata": {},
     "output_type": "execute_result"
    },
    {
     "data": {
      "image/png": "[encoded data removed]",
      "text/plain": [
       "<Figure size 432x288 with 1 Axes>"
      ]
     },
     "metadata": {
      "needs_background": "light"
     },
     "output_type": "display_data"
    }
   ],
   "source": [
    "plt.scatter(indices, angulos_criticos)\n",
    "plt.errorbar(indices, angulos_criticos, yerr=errores_angulos_criticos, fmt=\"o\")"
   ]
  },
  {
   "cell_type": "code",
   "execution_count": 34,
   "id": "75e57e04-6a92-4d71-b256-4603cdb09368",
   "metadata": {},
   "outputs": [],
   "source": [
    "def angulo_critico(datos_indice_refraccion, a, offs):\n",
    "    ang_crit = a * np.arcsin(1 / datos_indice_refraccion) * 180 / np.pi + offs\n",
    "    # err = round(datos_indice_refraccion[0] / np.sqrt(datos_indice_refraccion[0] ** 2 - 1) * datos_indice_refraccion[1], 3)\n",
    "    return ang_crit#, err"
   ]
  },
  {
   "cell_type": "code",
   "execution_count": 62,
   "id": "4af32819-dc96-48c5-9879-72eb3b34a451",
   "metadata": {},
   "outputs": [
    {
     "data": {
      "text/plain": [
       "array([ 1.00000919e+00, -2.67746303e-04])"
      ]
     },
     "execution_count": 62,
     "metadata": {},
     "output_type": "execute_result"
    }
   ],
   "source": [
    "popt, _ = curve_fit(angulo_critico, indices, angulos_criticos, maxfev=4000)\n",
    "popt"
   ]
  },
  {
   "cell_type": "code",
   "execution_count": 64,
   "id": "57ef269f-41db-4fe1-8194-a1a68c5d83cf",
   "metadata": {},
   "outputs": [
    {
     "name": "stdout",
     "output_type": "stream",
     "text": [
      "\n",
      "----------------Parámetros de la Ecuación------------------\n",
      "\n",
      "a = 1.0 +/- 0.0\n",
      "offs = -0.0 +/- 0.0\n",
      "\n",
      "\n",
      "---------------Error Porcentual de Parámetros--------------\n",
      "\n",
      "err(a) = 0.0%\n",
      "err(offs) = nan%\n",
      "\n"
     ]
    },
    {
     "name": "stderr",
     "output_type": "stream",
     "text": [
      "<ipython-input-64-10541435d065>:5: RuntimeWarning: invalid value encountered in double_scalars\n",
      "  print(f'err(a) = {round(round(np.sqrt(np.diag(_))[0], 3) / round(a, 3) * 100, 3)}%\\nerr(offs) = {round(round(np.sqrt(np.diag(_))[1], 3) / round(offs, 3) * 100, 3)}%\\n')\n"
     ]
    }
   ],
   "source": [
    "a, offs = popt\n",
    "print(\"\\n----------------Parámetros de la Ecuación------------------\\n\")\n",
    "print(f'a = {round(a, 3)} +/- {round(np.sqrt(np.diag(_))[0], 3)}\\noffs = {round(offs, 3)} +/- {round(np.sqrt(np.diag(_))[1], 3)}\\n')\n",
    "print(\"\\n---------------Error Porcentual de Parámetros--------------\\n\")\n",
    "print(f'err(a) = {round(round(np.sqrt(np.diag(_))[0], 3) / round(a, 3) * 100, 3)}%\\nerr(offs) = {round(round(np.sqrt(np.diag(_))[1], 3) / round(offs, 3) * 100, 3)}%\\n')\n"
   ]
  },
  {
   "cell_type": "code",
   "execution_count": 38,
   "id": "39a4ff78-9e70-45fc-b48f-7629d7d23c54",
   "metadata": {},
   "outputs": [
    {
     "name": "stderr",
     "output_type": "stream",
     "text": [
      "<ipython-input-34-e41c0dc05576>:2: RuntimeWarning: divide by zero encountered in true_divide\n",
      "  ang_crit = a * np.arcsin(1 / datos_indice_refraccion) * 180 / np.pi + offs\n",
      "<ipython-input-34-e41c0dc05576>:2: RuntimeWarning: invalid value encountered in arcsin\n",
      "  ang_crit = a * np.arcsin(1 / datos_indice_refraccion) * 180 / np.pi + offs\n"
     ]
    }
   ],
   "source": [
    "x = np.arange(0, 2, 0.001)\n",
    "y = angulo_critico(x, a, offs)"
   ]
  },
  {
   "cell_type": "code",
   "execution_count": 59,
   "id": "c1dc7bdc-bbbe-4414-bf6a-e12f0515d392",
   "metadata": {},
   "outputs": [
    {
     "data": {
      "image/png": "[encoded data removed]",
      "text/plain": [
       "<Figure size 432x288 with 1 Axes>"
      ]
     },
     "metadata": {
      "needs_background": "light"
     },
     "output_type": "display_data"
    }
   ],
   "source": [
    "plt.scatter(indices, angulos_criticos, label=\"Datos\\nObtenidos\")\n",
    "plt.errorbar(indices, angulos_criticos, yerr=errores_angulos_criticos, fmt=\"o\")\n",
    "plt.plot(x, y, '--', color='red', label=\"Ajuste:\\n\" + \"$a*arcsin1/n + offs$\")\n",
    "plt.title(\"Ajuste de los ángulos críticos\")\n",
    "plt.xlabel(\"Índices de refracción\")\n",
    "plt.ylabel(\"Ángulos críticos\")\n",
    "plt.legend()\n",
    "plt.grid()\n",
    "  "
   ]
  },
  {
   "cell_type": "code",
   "execution_count": null,
   "id": "7349ca53-db76-4d52-a5c7-13cd492162fd",
   "metadata": {},
   "outputs": [],
   "source": []
  }
 ],
 "metadata": {
  "kernelspec": {
   "display_name": "Python 3",
   "language": "python",
   "name": "python3"
  },
  "language_info": {
   "codemirror_mode": {
    "name": "ipython",
    "version": 3
   },
   "file_extension": ".py",
   "mimetype": "text/x-python",
   "name": "python",
   "nbconvert_exporter": "python",
   "pygments_lexer": "ipython3",
   "version": "3.8.8"
  }
 },
 "nbformat": 4,
 "nbformat_minor": 5
}
